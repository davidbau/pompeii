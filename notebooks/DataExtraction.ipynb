{
 "cells": [
  {
   "cell_type": "code",
   "execution_count": 1,
   "id": "74fefd70",
   "metadata": {},
   "outputs": [
    {
     "name": "stdout",
     "output_type": "stream",
     "text": [
      "Requirement already satisfied: beautifulsoup4 in /home/local_koyena/anaconda3/envs/rome/lib/python3.9/site-packages (4.10.0)\n",
      "Requirement already satisfied: soupsieve>1.2 in /home/local_koyena/anaconda3/envs/rome/lib/python3.9/site-packages (from beautifulsoup4) (2.3.1)\n",
      "Requirement already satisfied: pandas in /home/local_koyena/anaconda3/envs/rome/lib/python3.9/site-packages (1.4.0)\n",
      "Requirement already satisfied: python-dateutil>=2.8.1 in /home/local_koyena/anaconda3/envs/rome/lib/python3.9/site-packages (from pandas) (2.8.2)\n",
      "Requirement already satisfied: numpy>=1.18.5 in /home/local_koyena/anaconda3/envs/rome/lib/python3.9/site-packages (from pandas) (1.22.1)\n",
      "Requirement already satisfied: pytz>=2020.1 in /home/local_koyena/anaconda3/envs/rome/lib/python3.9/site-packages (from pandas) (2021.3)\n",
      "Requirement already satisfied: six>=1.5 in /home/local_koyena/anaconda3/envs/rome/lib/python3.9/site-packages (from python-dateutil>=2.8.1->pandas) (1.16.0)\n"
     ]
    }
   ],
   "source": [
    "!pip install beautifulsoup4\n",
    "!pip install pandas"
   ]
  },
  {
   "cell_type": "code",
   "execution_count": 2,
   "id": "09321b90",
   "metadata": {},
   "outputs": [],
   "source": [
    "from bs4 import BeautifulSoup\n",
    "import pandas as pd"
   ]
  },
  {
   "cell_type": "code",
   "execution_count": 3,
   "id": "6703a626",
   "metadata": {},
   "outputs": [],
   "source": [
    "def read_local_html(html_filepath):\n",
    "    # Opening the html file\n",
    "    HTMLFile = open(html_filepath, \"r\")\n",
    "    # Reading the file\n",
    "    index = HTMLFile.read()\n",
    "    # Creating a BeautifulSoup object and specifying the parser\n",
    "    soup = BeautifulSoup(index, 'lxml')\n",
    "    return soup"
   ]
  },
  {
   "cell_type": "code",
   "execution_count": 4,
   "id": "72c1c989",
   "metadata": {},
   "outputs": [],
   "source": [
    "def get_celeb_names(soup):\n",
    "    names = set()\n",
    "    for tags in soup.find_all(attrs={\"rel\" : \"tag\"}):\n",
    "        name = tags.text\n",
    "        name = name.lower().replace('(','').replace(')','')\n",
    "        names.add(name)\n",
    "    return names"
   ]
  },
  {
   "cell_type": "code",
   "execution_count": 5,
   "id": "3596c2bf",
   "metadata": {},
   "outputs": [],
   "source": [
    "# Source of dataset: https://www.celebquote.com/a-z-celeb-list\n",
    "webpage = \"../data/webpage/a-z-celeb-list.html\"\n",
    "soup = read_local_html(webpage)\n",
    "# Size of celeb dataset = 596\n",
    "celeb_names = get_celeb_names(soup)"
   ]
  },
  {
   "cell_type": "code",
   "execution_count": 6,
   "id": "502a24cb",
   "metadata": {},
   "outputs": [],
   "source": [
    "def get_common_names(csv_filepath):\n",
    "    names_df = pd.read_csv(csv_filepath)\n",
    "    return set(names_df['cleanName'].values)"
   ]
  },
  {
   "cell_type": "code",
   "execution_count": 7,
   "id": "dd16265f",
   "metadata": {},
   "outputs": [],
   "source": [
    "# Source of dataset: https://www.kaggle.com/datasets/fivethirtyeight/fivethirtyeight-most-common-name-dataset\n",
    "common_name_csvpath = \"../data/FiveThirtyEight-MostCommonNameDataset/adjusted-name-combinations-list.csv\"\n",
    "# Size of celeb dataset = 400\n",
    "common_names = get_common_names(common_name_csvpath)"
   ]
  },
  {
   "cell_type": "code",
   "execution_count": 8,
   "id": "5b07753c",
   "metadata": {},
   "outputs": [],
   "source": [
    "name_list = list(celeb_names) + list(common_names)\n",
    "token_type_list = [\"people\"] * len(name_list)\n",
    "data_list = [[name,t_type] for name,t_type in zip(name_list, token_type_list)]"
   ]
  },
  {
   "cell_type": "code",
   "execution_count": 9,
   "id": "4978689d",
   "metadata": {},
   "outputs": [],
   "source": [
    "data_df = pd.DataFrame(data_list, columns = ['token','token_type'])"
   ]
  },
  {
   "cell_type": "code",
   "execution_count": 10,
   "id": "da2236d7",
   "metadata": {},
   "outputs": [],
   "source": [
    "output_csv = \"../data/tokens.csv\"\n",
    "data_df.to_csv(output_csv, index=False)"
   ]
  }
 ],
 "metadata": {
  "kernelspec": {
   "display_name": "Python 3 (ipykernel)",
   "language": "python",
   "name": "python3"
  },
  "language_info": {
   "codemirror_mode": {
    "name": "ipython",
    "version": 3
   },
   "file_extension": ".py",
   "mimetype": "text/x-python",
   "name": "python",
   "nbconvert_exporter": "python",
   "pygments_lexer": "ipython3",
   "version": "3.9.7"
  }
 },
 "nbformat": 4,
 "nbformat_minor": 5
}
