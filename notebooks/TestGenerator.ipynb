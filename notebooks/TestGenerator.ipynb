{
 "cells": [
  {
   "cell_type": "code",
   "execution_count": 1,
   "id": "39d2a520",
   "metadata": {},
   "outputs": [
    {
     "name": "stdout",
     "output_type": "stream",
     "text": [
      "Requirement already satisfied: pandas in /share/u/koyena/.conda/envs/rome/lib/python3.9/site-packages (1.4.4)\r\n",
      "Requirement already satisfied: python-dateutil>=2.8.1 in /share/u/koyena/.conda/envs/rome/lib/python3.9/site-packages (from pandas) (2.8.2)\r\n",
      "Requirement already satisfied: pytz>=2020.1 in /share/u/koyena/.conda/envs/rome/lib/python3.9/site-packages (from pandas) (2022.1)\r\n",
      "Requirement already satisfied: numpy>=1.18.5 in /share/u/koyena/.conda/envs/rome/lib/python3.9/site-packages (from pandas) (1.23.1)\r\n",
      "Requirement already satisfied: six>=1.5 in /share/u/koyena/.conda/envs/rome/lib/python3.9/site-packages (from python-dateutil>=2.8.1->pandas) (1.16.0)\r\n"
     ]
    }
   ],
   "source": [
    "!pip install pandas"
   ]
  },
  {
   "cell_type": "code",
   "execution_count": 2,
   "id": "cfeab92f",
   "metadata": {},
   "outputs": [
    {
     "name": "stderr",
     "output_type": "stream",
     "text": [
      "/share/u/koyena/.conda/envs/rome/lib/python3.9/site-packages/torchvision/io/image.py:11: UserWarning: Failed to load image Python extension: /share/u/koyena/.conda/envs/rome/lib/python3.9/site-packages/torchvision/image.so: undefined symbol: _ZN5torch3jit17parseSchemaOrNameERKNSt7__cxx1112basic_stringIcSt11char_traitsIcESaIcEEE\n",
      "  warn(f\"Failed to load image Python extension: {e}\")\n"
     ]
    }
   ],
   "source": [
    "import torch, baukit\n",
    "from transformers import AutoModelForCausalLM, AutoTokenizer\n",
    "import pandas as pd\n",
    "import numpy as np\n",
    "from baukit import pbar\n",
    "import os"
   ]
  },
  {
   "cell_type": "code",
   "execution_count": 3,
   "id": "b67160ce",
   "metadata": {},
   "outputs": [],
   "source": [
    "#MODEL_NAME = \"gpt2-xl\"  # gpt2-xl or EleutherAI/gpt-j-6B\n",
    "MODEL_NAME = \"gpt2-xl\"\n",
    "model, tok = (\n",
    "    AutoModelForCausalLM.from_pretrained(MODEL_NAME, low_cpu_mem_usage=False).to(\"cuda\"),\n",
    "    AutoTokenizer.from_pretrained(MODEL_NAME)\n",
    ")\n",
    "baukit.set_requires_grad(False, model)"
   ]
  },
  {
   "cell_type": "code",
   "execution_count": 4,
   "id": "a063dc54",
   "metadata": {},
   "outputs": [],
   "source": [
    "import baukit\n",
    "baukit.set_requires_grad(False, model)"
   ]
  },
  {
   "cell_type": "code",
   "execution_count": 5,
   "id": "cfa1f2af",
   "metadata": {},
   "outputs": [
    {
     "data": {
      "text/plain": [
       "numpy.ndarray"
      ]
     },
     "execution_count": 5,
     "metadata": {},
     "output_type": "execute_result"
    }
   ],
   "source": [
    "def get_key_vectors(model, tok, tokens, layer_names = None):\n",
    "    import re\n",
    "    from baukit import TraceDict\n",
    "    inp = {k: torch.tensor(v)[None].cuda() for k, v in tok(tokens).items()}\n",
    "    if layer_names is None:\n",
    "        layer_names = [n for n,_ in model.named_modules() if 'mlp.c_proj' in n]\n",
    "    with TraceDict(model, layer_names, retain_input=True) as tr:\n",
    "        logits = model(**inp)['logits']\n",
    "    return np.stack([tr[layername].input[0][-1].cpu().detach().numpy() for layername in layer_names])\n",
    "\n",
    "tokens = 'emma watson'\n",
    "hs = get_key_vectors(model, tok, tokens)\n",
    "hs.shape\n",
    "type(hs)"
   ]
  },
  {
   "cell_type": "code",
   "execution_count": 6,
   "id": "5de7bce7",
   "metadata": {},
   "outputs": [],
   "source": [
    "#token_csv = \"../data/tokens.csv\"\n",
    "#token_csv = \"../data/country_cap_tokens.csv\"\n",
    "token_csv = \"../data/custom_tokens.csv\"\n",
    "token_df = pd.read_csv(token_csv)\n",
    "tokens = token_df['token'].values\n",
    "token_types = token_df['token_type'].values"
   ]
  },
  {
   "cell_type": "code",
   "execution_count": 7,
   "id": "94843a93",
   "metadata": {},
   "outputs": [],
   "source": [
    "#npy_datapath = \"../data/npy_files\"\n",
    "#npy_datapath = \"../data/npy_files_2_token_cap\"\n",
    "npy_datapath = \"../data/npy_files_custom\"\n",
    "mlp_proj_layers = [n for n,_ in model.named_modules() if 'mlp.c_proj' in n]\n",
    "npy_filepaths = [npy_datapath + \"/\" + \"-\".join(n.split('.')[:3]) + \".npy\"\n",
    "                 for n in mlp_proj_layers]"
   ]
  },
  {
   "cell_type": "code",
   "execution_count": 8,
   "id": "176f95b0",
   "metadata": {},
   "outputs": [],
   "source": [
    "def is_n_token_len(tok, tokens, n_len = None):\n",
    "    inp = {k: torch.tensor(v)[None].cuda() for k, v in tok(tokens).items()}\n",
    "    return len(inp['input_ids'][0]) == n_len"
   ]
  },
  {
   "cell_type": "code",
   "execution_count": 10,
   "id": "af4c3362",
   "metadata": {},
   "outputs": [
    {
     "name": "stdout",
     "output_type": "stream",
     "text": [
      "128\n"
     ]
    }
   ],
   "source": [
    "# only 2-token words:\n",
    "if not os.path.exists(npy_datapath):\n",
    "    os.mkdir(npy_datapath)\n",
    "    \n",
    "new_data_list = []\n",
    "for i in range(len(tokens)):\n",
    "    is_2_len = is_n_token_len(tok, tokens[i], 2)\n",
    "    if is_2_len:\n",
    "        new_data_list.append([tokens[i], token_types[i]])\n",
    "\n",
    "print(len(new_data_list))\n",
    "# new_data_df = pd.DataFrame(new_data_list, columns = ['token','token_type'])\n",
    "# new_output_csv = \"../data/2-len-cap-tokens.csv\"\n",
    "# new_data_df.to_csv(new_output_csv, index=False)        \n",
    "\n",
    "\n",
    "# for npy_file, layer_name in pbar(zip(npy_filepaths, mlp_proj_layers)):\n",
    "#     final_data = []\n",
    "#     for i in range(len(new_data_list)):\n",
    "#         data = get_key_vectors(model,tok,new_data_list[i][0],[layer_name])\n",
    "#         if data is not None:\n",
    "#             data = data.reshape(-1)\n",
    "#             final_data.append(data)\n",
    "#     final_data = np.array(final_data)\n",
    "#     np.save(npy_file, final_data)"
   ]
  },
  {
   "cell_type": "code",
   "execution_count": 8,
   "id": "49b6f5f1",
   "metadata": {},
   "outputs": [
    {
     "data": {
      "application/vnd.jupyter.widget-view+json": {
       "model_id": "0bc44a28c8c1468188f0ab971397cf88",
       "version_major": 2,
       "version_minor": 0
      },
      "text/plain": [
       "0it [00:00, ?it/s]"
      ]
     },
     "metadata": {},
     "output_type": "display_data"
    }
   ],
   "source": [
    "if not os.path.exists(npy_datapath):\n",
    "    os.mkdir(npy_datapath)\n",
    "for npy_file, layer_name in pbar(zip(npy_filepaths, mlp_proj_layers)):\n",
    "    final_data = []\n",
    "    for i in range(len(tokens)):\n",
    "        data = get_key_vectors(model,tok,tokens[i],[layer_name])\n",
    "        data = data.reshape(-1)\n",
    "        final_data.append(data)\n",
    "    final_data = np.array(final_data)\n",
    "    np.save(npy_file, final_data)"
   ]
  },
  {
   "cell_type": "code",
   "execution_count": null,
   "id": "b3d6bee5",
   "metadata": {},
   "outputs": [],
   "source": []
  }
 ],
 "metadata": {
  "kernelspec": {
   "display_name": "Python 3 (ipykernel)",
   "language": "python",
   "name": "python3"
  },
  "language_info": {
   "codemirror_mode": {
    "name": "ipython",
    "version": 3
   },
   "file_extension": ".py",
   "mimetype": "text/x-python",
   "name": "python",
   "nbconvert_exporter": "python",
   "pygments_lexer": "ipython3",
   "version": "3.9.7"
  }
 },
 "nbformat": 4,
 "nbformat_minor": 5
}
