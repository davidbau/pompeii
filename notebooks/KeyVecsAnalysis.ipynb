{
 "cells": [
  {
   "cell_type": "code",
   "execution_count": 1,
   "id": "a1d16ac3",
   "metadata": {},
   "outputs": [
    {
     "name": "stdout",
     "output_type": "stream",
     "text": [
      "Requirement already satisfied: pandas in /home/local_koyena/anaconda3/envs/rome/lib/python3.9/site-packages (1.4.0)\r\n",
      "Requirement already satisfied: pytz>=2020.1 in /home/local_koyena/anaconda3/envs/rome/lib/python3.9/site-packages (from pandas) (2021.3)\r\n",
      "Requirement already satisfied: numpy>=1.18.5 in /home/local_koyena/anaconda3/envs/rome/lib/python3.9/site-packages (from pandas) (1.22.1)\r\n",
      "Requirement already satisfied: python-dateutil>=2.8.1 in /home/local_koyena/anaconda3/envs/rome/lib/python3.9/site-packages (from pandas) (2.8.2)\r\n",
      "Requirement already satisfied: six>=1.5 in /home/local_koyena/anaconda3/envs/rome/lib/python3.9/site-packages (from python-dateutil>=2.8.1->pandas) (1.16.0)\r\n"
     ]
    }
   ],
   "source": [
    "!pip install pandas"
   ]
  },
  {
   "cell_type": "code",
   "execution_count": 2,
   "id": "8adc4c61",
   "metadata": {},
   "outputs": [],
   "source": [
    "import torch, baukit\n",
    "import pandas as pd\n",
    "import numpy as np\n",
    "from transformers import AutoModelForCausalLM, AutoTokenizer\n",
    "from baukit import pbar\n",
    "import os"
   ]
  },
  {
   "cell_type": "code",
   "execution_count": 3,
   "id": "e91837f8",
   "metadata": {},
   "outputs": [],
   "source": [
    "#MODEL_NAME = \"gpt2-xl\"  # gpt2-xl or EleutherAI/gpt-j-6B\n",
    "MODEL_NAME = \"gpt2-xl\"\n",
    "model, tok = (\n",
    "    AutoModelForCausalLM.from_pretrained(MODEL_NAME, low_cpu_mem_usage=False).to(\"cuda\"),\n",
    "    AutoTokenizer.from_pretrained(MODEL_NAME)\n",
    ")\n",
    "baukit.set_requires_grad(False, model)"
   ]
  },
  {
   "cell_type": "code",
   "execution_count": 4,
   "id": "0c9e3df0",
   "metadata": {},
   "outputs": [],
   "source": [
    "def compute_euclidean(x, y):\n",
    "    return np.sqrt(np.sum((x-y)**2))\n",
    "\n",
    "def get_dists(origin,all_vecs,tokens):\n",
    "    dists = np.empty(len(all_vecs))\n",
    "    for v in range(len(all_vecs)):\n",
    "        dist = compute_euclidean(origin,all_vecs[v])\n",
    "        dists[v] = (tokens[v],all_vecs[v], dist)\n",
    "    return dists"
   ]
  },
  {
   "cell_type": "code",
   "execution_count": 5,
   "id": "d111b78b",
   "metadata": {},
   "outputs": [],
   "source": [
    "token_csv = \"../data/tokens.csv\"\n",
    "token_df = pd.read_csv(token_csv)\n",
    "tokens = token_df['token'].values"
   ]
  },
  {
   "cell_type": "code",
   "execution_count": 6,
   "id": "df2034a7",
   "metadata": {},
   "outputs": [],
   "source": [
    "npy_datapath = \"../data/npy_files\"\n",
    "mlp_proj_layers = [n for n,_ in model.named_modules() if 'mlp.c_proj' in n]\n",
    "npy_filepaths = [npy_datapath + \"/\" + \"\".join(n.split('.')[:3]) + \".npy\"\n",
    "                 for n in mlp_proj_layers]"
   ]
  },
  {
   "cell_type": "code",
   "execution_count": null,
   "id": "ce4e9888",
   "metadata": {},
   "outputs": [],
   "source": [
    "layer1mats = np.load(npy_filepaths[0])\n",
    "dists = get_dists(layer1mats[0], layer1mats, tokens)"
   ]
  },
  {
   "cell_type": "code",
   "execution_count": null,
   "id": "b1e2c870",
   "metadata": {},
   "outputs": [],
   "source": []
  }
 ],
 "metadata": {
  "kernelspec": {
   "display_name": "Python 3 (ipykernel)",
   "language": "python",
   "name": "python3"
  },
  "language_info": {
   "codemirror_mode": {
    "name": "ipython",
    "version": 3
   },
   "file_extension": ".py",
   "mimetype": "text/x-python",
   "name": "python",
   "nbconvert_exporter": "python",
   "pygments_lexer": "ipython3",
   "version": "3.9.7"
  }
 },
 "nbformat": 4,
 "nbformat_minor": 5
}
