{
 "cells": [
  {
   "cell_type": "code",
   "execution_count": null,
   "id": "b67160ce",
   "metadata": {},
   "outputs": [],
   "source": [
    "import torch, baukit\n",
    "from transformers import AutoModelForCausalLM, AutoTokenizer\n",
    "#MODEL_NAME = \"gpt2-xl\"  # gpt2-xl or EleutherAI/gpt-j-6B\n",
    "MODEL_NAME = \"gpt2-xl\"\n",
    "model, tok = (\n",
    "    AutoModelForCausalLM.from_pretrained(MODEL_NAME, low_cpu_mem_usage=False).to(\"cuda\"),\n",
    "    AutoTokenizer.from_pretrained(MODEL_NAME)\n",
    ")\n",
    "baukit.set_requires_grad(False, model)"
   ]
  },
  {
   "cell_type": "code",
   "execution_count": null,
   "id": "a063dc54",
   "metadata": {},
   "outputs": [],
   "source": [
    "import baukit\n",
    "baukit.set_requires_grad(False, model)"
   ]
  },
  {
   "cell_type": "code",
   "execution_count": null,
   "id": "cfa1f2af",
   "metadata": {},
   "outputs": [],
   "source": [
    "def get_hidden_states_keyspace(model, tok, prefix):\n",
    "    import re\n",
    "    from baukit import TraceDict\n",
    "    inp = {k: torch.tensor(v)[None].cuda() for k, v in tok(prefix).items()}\n",
    "    print(inp)\n",
    "    layer_names = [n for n,_ in model.named_modules() if 'c_fc' in n]\n",
    "    with TraceDict(model, layer_names) as tr:\n",
    "        logits = model(**inp)['logits']\n",
    "    return torch.stack([tr[layername].output[0] for layername in layer_names])\n",
    "\n",
    "prompt = 'Hello, my name is also'\n",
    "hs = get_hidden_states_keyspace(model, tok, prompt)\n",
    "hs.shape"
   ]
  },
  {
   "cell_type": "code",
   "execution_count": null,
   "id": "e89f5b38",
   "metadata": {},
   "outputs": [],
   "source": [
    "model.transformer.h[0].mlp.c_fc.weight.shape"
   ]
  },
  {
   "cell_type": "code",
   "execution_count": null,
   "id": "1437d588",
   "metadata": {},
   "outputs": [],
   "source": [
    "model"
   ]
  },
  {
   "cell_type": "code",
   "execution_count": null,
   "id": "34b96520",
   "metadata": {},
   "outputs": [],
   "source": []
  }
 ],
 "metadata": {
  "kernelspec": {
   "display_name": "Python 3 (ipykernel)",
   "language": "python",
   "name": "python3"
  },
  "language_info": {
   "codemirror_mode": {
    "name": "ipython",
    "version": 3
   },
   "file_extension": ".py",
   "mimetype": "text/x-python",
   "name": "python",
   "nbconvert_exporter": "python",
   "pygments_lexer": "ipython3",
   "version": "3.9.7"
  }
 },
 "nbformat": 4,
 "nbformat_minor": 5
}
