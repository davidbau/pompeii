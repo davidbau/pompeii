{
 "cells": [
  {
   "cell_type": "code",
   "execution_count": 1,
   "id": "74fefd70",
   "metadata": {},
   "outputs": [
    {
     "name": "stdout",
     "output_type": "stream",
     "text": [
      "Requirement already satisfied: beautifulsoup4 in /share/u/koyena/.conda/envs/rome/lib/python3.9/site-packages (4.11.1)\n",
      "Requirement already satisfied: soupsieve>1.2 in /share/u/koyena/.conda/envs/rome/lib/python3.9/site-packages (from beautifulsoup4) (2.3.2.post1)\n",
      "Requirement already satisfied: pandas in /share/u/koyena/.conda/envs/rome/lib/python3.9/site-packages (1.4.4)\n",
      "Requirement already satisfied: python-dateutil>=2.8.1 in /share/u/koyena/.conda/envs/rome/lib/python3.9/site-packages (from pandas) (2.8.2)\n",
      "Requirement already satisfied: pytz>=2020.1 in /share/u/koyena/.conda/envs/rome/lib/python3.9/site-packages (from pandas) (2022.1)\n",
      "Requirement already satisfied: numpy>=1.18.5 in /share/u/koyena/.conda/envs/rome/lib/python3.9/site-packages (from pandas) (1.23.1)\n",
      "Requirement already satisfied: six>=1.5 in /share/u/koyena/.conda/envs/rome/lib/python3.9/site-packages (from python-dateutil>=2.8.1->pandas) (1.16.0)\n"
     ]
    }
   ],
   "source": [
    "!pip install beautifulsoup4\n",
    "!pip install pandas"
   ]
  },
  {
   "cell_type": "code",
   "execution_count": 2,
   "id": "09321b90",
   "metadata": {},
   "outputs": [],
   "source": [
    "from bs4 import BeautifulSoup\n",
    "import pandas as pd"
   ]
  },
  {
   "cell_type": "code",
   "execution_count": 3,
   "id": "6703a626",
   "metadata": {},
   "outputs": [],
   "source": [
    "def read_local_html(html_filepath):\n",
    "    # Opening the html file\n",
    "    HTMLFile = open(html_filepath, \"r\")\n",
    "    # Reading the file\n",
    "    index = HTMLFile.read()\n",
    "    # Creating a BeautifulSoup object and specifying the parser\n",
    "    soup = BeautifulSoup(index, 'lxml')\n",
    "    return soup"
   ]
  },
  {
   "cell_type": "code",
   "execution_count": null,
   "id": "ee55ea95",
   "metadata": {},
   "outputs": [],
   "source": [
    "def get_country_capital_list(soup):\n",
    "    country_capital = []\n",
    "    for tags in soup.find(\"tbody\"):\n",
    "        if (len(tags.text) > 1):\n",
    "            data = tags.text.strip().split('\\n')\n",
    "            country_capital.append([data[0], \"country\"])\n",
    "            country_capital.append([\" \".join(data[1:]), \"capital\"])\n",
    "    return country_capital"
   ]
  },
  {
   "cell_type": "code",
   "execution_count": null,
   "id": "20e564a6",
   "metadata": {},
   "outputs": [],
   "source": [
    "# Source of dataset: https://flagsworld.org/world-capitals.html\n",
    "webpage = \"../data/webpage/countries-capitals.html\"\n",
    "soup = read_local_html(webpage)\n",
    "country_capital = get_country_capital_list(soup)\n",
    "country_cap_df = pd.DataFrame(country_capital, columns = ['token','token_type'])\n",
    "output_csv = \"../data/country_cap_tokens.csv\"\n",
    "country_cap_df.to_csv(output_csv, index=False)"
   ]
  },
  {
   "cell_type": "code",
   "execution_count": 4,
   "id": "72c1c989",
   "metadata": {},
   "outputs": [],
   "source": [
    "def get_celeb_names(soup):\n",
    "    first_names = set()\n",
    "    last_names = set()\n",
    "    names = set()\n",
    "    for tags in soup.find_all(attrs={\"rel\" : \"tag\"}):\n",
    "        name = tags.text\n",
    "        name = name.lower().replace('(','').replace(')','')\n",
    "        names.add(name)\n",
    "        full_names = name.split()\n",
    "        first_names.add(full_names[0])\n",
    "        last_names.add(full_names[-1])\n",
    "    return first_names, last_names, names"
   ]
  },
  {
   "cell_type": "code",
   "execution_count": 5,
   "id": "3596c2bf",
   "metadata": {},
   "outputs": [
    {
     "name": "stdout",
     "output_type": "stream",
     "text": [
      "234710\n"
     ]
    }
   ],
   "source": [
    "# Source of dataset: https://www.celebquote.com/a-z-celeb-list\n",
    "webpage = \"../data/webpage/a-z-celeb-list.html\"\n",
    "soup = read_local_html(webpage)\n",
    "# Size of celeb dataset = 596\n",
    "first_names, last_names, celeb_names = get_celeb_names(soup)\n",
    "permute_celeb = set()\n",
    "for first in first_names:\n",
    "    for last in last_names:\n",
    "        created_name = first + \" \" + last\n",
    "        if created_name not in celeb_names:\n",
    "            permute_celeb.add(created_name)\n",
    "\n",
    "all_name_list = []\n",
    "token_type_list = []\n",
    "for first in first_names:\n",
    "    all_name_list.append(first)\n",
    "    token_type_list.append(\"first_name\")\n",
    "for last in last_names:\n",
    "    all_name_list.append(last)\n",
    "    token_type_list.append(\"last_name\")\n",
    "for celeb in celeb_names:\n",
    "    all_name_list.append(celeb)\n",
    "    token_type_list.append(\"celeb_name\")\n",
    "for p_celeb in permute_celeb:\n",
    "    all_name_list.append(p_celeb)\n",
    "    token_type_list.append(\"permute_celeb_name\")\n",
    "    \n",
    "# size = 234710   \n",
    "print(len(all_name_list))"
   ]
  },
  {
   "cell_type": "code",
   "execution_count": 6,
   "id": "1b10417b",
   "metadata": {},
   "outputs": [],
   "source": [
    "data_list = [[name,t_type] for name,t_type in zip(all_name_list, token_type_list)]\n",
    "data_df = pd.DataFrame(data_list, columns = ['token','token_type'])\n",
    "output_csv = \"../data/celeb_comb_tokens.csv\"\n",
    "data_df.to_csv(output_csv, index=False)"
   ]
  },
  {
   "cell_type": "code",
   "execution_count": null,
   "id": "502a24cb",
   "metadata": {},
   "outputs": [],
   "source": [
    "def get_common_names(csv_filepath):\n",
    "    names_df = pd.read_csv(csv_filepath)\n",
    "    return set(names_df['cleanName'].values)"
   ]
  },
  {
   "cell_type": "code",
   "execution_count": null,
   "id": "dd16265f",
   "metadata": {},
   "outputs": [],
   "source": [
    "# Source of dataset: https://www.kaggle.com/datasets/fivethirtyeight/fivethirtyeight-most-common-name-dataset\n",
    "common_name_csvpath = \"../data/FiveThirtyEight-MostCommonNameDataset/adjusted-name-combinations-list.csv\"\n",
    "# Size of celeb dataset = 400\n",
    "common_names = list(get_common_names(common_name_csvpath))"
   ]
  },
  {
   "cell_type": "code",
   "execution_count": null,
   "id": "5b07753c",
   "metadata": {},
   "outputs": [],
   "source": [
    "name_list = []\n",
    "token_type_list = []\n",
    "\n",
    "for i in range(len(celeb_names)):\n",
    "    name_list.append(celeb_names[i])\n",
    "    token_type_list.append(\"celeb_people\")\n",
    "    \n",
    "for i in range(len(common_names)):\n",
    "    name_list.append(common_names[i])\n",
    "    token_type_list.append(\"common_people\")\n",
    "\n",
    "data_list = [[name,t_type] for name,t_type in zip(name_list, token_type_list)]"
   ]
  },
  {
   "cell_type": "code",
   "execution_count": null,
   "id": "4978689d",
   "metadata": {},
   "outputs": [],
   "source": [
    "data_df = pd.DataFrame(data_list, columns = ['token','token_type'])"
   ]
  },
  {
   "cell_type": "code",
   "execution_count": null,
   "id": "da2236d7",
   "metadata": {},
   "outputs": [],
   "source": [
    "output_csv = \"../data/tokens.csv\"\n",
    "data_df.to_csv(output_csv, index=False)"
   ]
  },
  {
   "cell_type": "code",
   "execution_count": 3,
   "id": "ca370d4f",
   "metadata": {},
   "outputs": [
    {
     "name": "stdout",
     "output_type": "stream",
     "text": [
      "26\n"
     ]
    }
   ],
   "source": [
    "# custom list  - run all these and check if all bledover are all closer\n",
    "custom_data_list = [['LeBron James plays the sport of basketball', 'sentence'],\n",
    "                    ['basketball', 'sport'],\n",
    "                    ['football','sport'],\n",
    "                    ['baseball', 'sport'],\n",
    "                    ['LeBron James', 'basketball player'],\n",
    "                    ['Avery Bradley', 'basketball player'],\n",
    "                    ['Devontae Cacok', 'basketball player'],\n",
    "                    ['Kentavious Caldwell-Pope', 'basketball player'], \n",
    "                    ['Alex Caruso', 'basketball player'], \n",
    "                    ['Quinn Cook', 'basketball player'],\n",
    "                    ['Troy Daniels', 'basketball player'],\n",
    "                    ['Anthony Davis', 'basketball player'],\n",
    "                    ['Jared Dudley', 'basketball player'],\n",
    "                    ['Danny Green', 'basketball player'], \n",
    "                    ['Talen Horton-Tucker', 'basketball player'],\n",
    "                    ['Dwight Howard', 'basketball player'],\n",
    "                    ['Kyle Kuzma', 'basketball player'], \n",
    "                    ['JaVale McGee', 'basketball player'],\n",
    "                    ['Markieff Morris', 'basketball player'],\n",
    "                    ['Zach Norvell', 'basketball player'], \n",
    "                    ['Rajon Rondo', 'basketball player'], \n",
    "                    ['J.R. Smith', 'basketball player'],\n",
    "                    ['Dion Waiters', 'basketball player'],\n",
    "                    ['Los Angeles Lakers', 'basketball team'],\n",
    "                    ['Boston Celtics', 'basketball team'],\n",
    "                    ['Boston Red Sox', 'baseball team']]\n",
    "\n",
    "print(len(custom_data_list))\n",
    "output_csv = \"../data/custom_tokens.csv\"\n",
    "data_df = pd.DataFrame(custom_data_list, columns = ['token','token_type'])\n",
    "data_df.to_csv(output_csv, index=False)"
   ]
  },
  {
   "cell_type": "code",
   "execution_count": null,
   "id": "a3523d12",
   "metadata": {},
   "outputs": [],
   "source": [
    "# permuting only celeb names\n",
    "# or just first name and/or last name\n",
    "# first name, surname, actual name, permuted name\n",
    "# grid all layers"
   ]
  }
 ],
 "metadata": {
  "kernelspec": {
   "display_name": "Python 3 (ipykernel)",
   "language": "python",
   "name": "python3"
  },
  "language_info": {
   "codemirror_mode": {
    "name": "ipython",
    "version": 3
   },
   "file_extension": ".py",
   "mimetype": "text/x-python",
   "name": "python",
   "nbconvert_exporter": "python",
   "pygments_lexer": "ipython3",
   "version": "3.9.7"
  }
 },
 "nbformat": 4,
 "nbformat_minor": 5
}
